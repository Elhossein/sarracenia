{
 "cells": [
  {
   "cell_type": "code",
   "execution_count": 1,
   "id": "designing-laptop",
   "metadata": {},
   "outputs": [],
   "source": [
    "import sarracenia\n",
    "!mkdir -p ~/.config/sr3/subscribe\n",
    "!mkdir -p ~/.cache/sr3/log"
   ]
  },
  {
   "cell_type": "markdown",
   "id": "chubby-tenant",
   "metadata": {},
   "source": [
    "\n",
    "# Prequisites\n",
    "The above is just a way to get jupyter notebooks to install metpx-sr3 on a server.\n",
    "Creating some directories in case people use API access without running things through the API.\n",
    "Not sure if the above works.  The basic pre-requisite is to have metpx-sr3 installed somehow,\n",
    "either as a .deb package, or using pip (or pip3) available to the environment used by jupyter.\n",
    "\n",
    "The rest of this notebook assumes metpx-sr3 is installed.\n",
    "\n",
    "\n",
    "# Command Line Interface\n",
    "\n",
    "This notebook introduces sarracenia v3 usage from the command line (mostly on Linux, \n",
    "but should be similar on Windows and Mac also, main difference being different conventions for where\n",
    "preferences and logs are stored. This is probably the easiest way to work with Sarracenia. You\n",
    "configure a flow to download files into a directory, and you can read the directory to\n",
    "process the files there.\n"
   ]
  },
  {
   "cell_type": "markdown",
   "id": "absolute-integral",
   "metadata": {},
   "source": [
    "# SR3\n",
    "\n",
    "The command line interface is called _sr3_ (short for Sarracenia version 3). One defines\n",
    "flows to run using configuration files in a simple format: _keyword_ _value_ format.\n",
    "there are example configurations to get you started:"
   ]
  },
  {
   "cell_type": "code",
   "execution_count": 1,
   "id": "drawn-opposition",
   "metadata": {
    "scrolled": true
   },
   "outputs": [
    {
     "name": "stdout",
     "output_type": "stream",
     "text": [
      "Sample Configurations: (from: /usr/lib/python3/dist-packages/sarracenia/examples )\r\n",
      "cpump/cno_trouble_f00.inc        poll/aws-nexrad.conf             \r\n",
      "poll/pollingest.conf             poll/pollnoaa.conf               \r\n",
      "poll/pollsoapshc.conf            poll/pollusgs.conf               \r\n",
      "poll/pulse.conf                  post/WMO_mesh_post.conf          \r\n",
      "sarra/wmo_mesh.conf              sender/ec2collab.conf            \r\n",
      "sender/pitcher_push.conf         shovel/no_trouble_f00.inc        \r\n",
      "subscribe/WMO_Sketch_2mqtt.conf  subscribe/WMO_Sketch_2v3.conf    \r\n",
      "subscribe/WMO_mesh_CMC.conf      subscribe/WMO_mesh_Peer.conf     \r\n",
      "subscribe/aws-nexrad.conf        subscribe/dd_2mqtt.conf          \r\n",
      "subscribe/dd_all.conf            subscribe/dd_amis.conf           \r\n",
      "subscribe/dd_aqhi.conf           subscribe/dd_cacn_bulletins.conf \r\n",
      "subscribe/dd_citypage.conf       subscribe/dd_cmml.conf           \r\n",
      "subscribe/dd_gdps.conf           subscribe/dd_ping.conf           \r\n",
      "subscribe/dd_radar.conf          subscribe/dd_rdps.conf           \r\n",
      "subscribe/dd_swob.conf           subscribe/ddc_cap-xml.conf       \r\n",
      "subscribe/ddc_normal.conf        subscribe/downloademail.conf     \r\n",
      "subscribe/ec_ninjo-a.conf        subscribe/hpfx_amis.conf         \r\n",
      "subscribe/local_sub.conf         subscribe/pitcher_pull.conf      \r\n",
      "subscribe/sci2ec.conf            subscribe/subnoaa.conf           \r\n",
      "subscribe/subsoapshc.conf        subscribe/subusgs.conf           \r\n",
      "sender/ec2collab.conf            sender/pitcher_push.conf         \r\n",
      "watch/master.conf                watch/pitcher_client.conf        \r\n",
      "watch/pitcher_server.conf        watch/sci2ec.conf                \r\n"
     ]
    }
   ],
   "source": [
    "!sr3 list examples"
   ]
  },
  {
   "cell_type": "markdown",
   "id": "affecting-marking",
   "metadata": {},
   "source": [
    "There are different kinds for flows: the examples are classified flow type (poll, post, sarra, sender, shovel...)\n",
    "A _subscribe_ is used by clients to download from a data pump. Let's pick one of those."
   ]
  },
  {
   "cell_type": "code",
   "execution_count": 3,
   "id": "egyptian-suicide",
   "metadata": {
    "scrolled": true
   },
   "outputs": [
    {
     "name": "stdout",
     "output_type": "stream",
     "text": [
      "add: 2021-02-17 01:27:02,544 [INFO] sarracenia.sr add copying: /usr/lib/python3/dist-packages/sarracenia/examples/subscribe/hpfx_amis.conf to /home/peter/.config/sr3/subscribe/hpfx_amis.conf \r\n",
      "\r\n"
     ]
    }
   ],
   "source": [
    "!sr3 add subscribe/hpfx_amis.conf"
   ]
  },
  {
   "cell_type": "markdown",
   "id": "overall-instruction",
   "metadata": {},
   "source": [
    "The files that are active for you are place in ~/.config/sr3/<flow_type>/config_name.  You can browse there \n",
    "and modify them with an editor if you like.  You can do that also with  _sr3 edit subscribe/hpfx_amis.conf_\n",
    "\n",
    "    # this is a feed of wmo bulletin (a set called AMIS in the old times)\n",
    "\n",
    "    broker amqps://hpfx.collab.science.gc.ca/\n",
    "    exchange xpublic\n",
    "\n",
    "    # instances: number of downloading processes to run at once.  defaults to 1. Not enough for this case\n",
    "    instances 5\n",
    "   \n",
    "    # expire, in operational use, should be longer than longest expected interruption\n",
    "    expire 10m\n",
    "\n",
    "    message_count_max 5\n",
    "    topic_prefix v02.post\n",
    "    subtopic *.WXO-DD.bulletins.alphanumeric.#\n",
    "    mirror true\n",
    "    directory /tmp/amis/\n",
    "    accept .*\n",
    "\n",
    "added the message_count_max, so it doesn't run forever."
   ]
  },
  {
   "cell_type": "code",
   "execution_count": 4,
   "id": "primary-score",
   "metadata": {},
   "outputs": [
    {
     "name": "stdout",
     "output_type": "stream",
     "text": [
      "mkdir: cannot create directory ‘/tmp/amis’: File exists\r\n"
     ]
    }
   ],
   "source": [
    "!mkdir /tmp/amis\n",
    "!echo message_count_mac >>~/.config/sr3/subscribe/hpfx_amis.conf"
   ]
  },
  {
   "cell_type": "markdown",
   "id": "ancient-scholarship",
   "metadata": {},
   "source": [
    "The root directory where files are to be placed needs to exist before you start.\n",
    "the above commands are to configure on a linux machine, you might need something else on a mac or windows.\n",
    "\n",
    "You can then run a flow interactively with the _foreground_ action, and it will end quickly, like so:"
   ]
  },
  {
   "cell_type": "code",
   "execution_count": 8,
   "id": "nominated-nerve",
   "metadata": {},
   "outputs": [
    {
     "name": "stdout",
     "output_type": "stream",
     "text": [
      "2021-02-17 01:28:24,198 [INFO] sarracenia.flow loadCallbacks imports to load: []\n",
      "2021-02-17 01:28:24,199 [DEBUG] sarracenia.flowcb.retry __init__ sr_retry __init__\n",
      "2021-02-17 01:28:24,199 [DEBUG] sarracenia.flowcb.retry __init__ logLevel=debug\n",
      "2021-02-17 01:28:24,292 [DEBUG] amqp _on_start Start from server, version: 0.9, properties: {'capabilities': {'publisher_confirms': True, 'exchange_exchange_bindings': True, 'basic.nack': True, 'consumer_cancel_notify': True, 'connection.blocked': True, 'consumer_priorities': True, 'authentication_failure_close': True, 'per_consumer_qos': True, 'direct_reply_to': True}, 'cluster_name': 'rabbit@hpfx2.collab.science.gc.ca', 'copyright': 'Copyright (C) 2007-2019 Pivotal Software, Inc.', 'information': 'Licensed under the MPL.  See http://www.rabbitmq.com/', 'platform': 'Erlang/OTP 21.3', 'product': 'RabbitMQ', 'version': '3.7.13'}, mechanisms: [b'AMQPLAIN', b'PLAIN'], locales: ['en_US']\n",
      "2021-02-17 01:28:24,326 [DEBUG] amqp __init__ using channel_id: 1\n",
      "2021-02-17 01:28:24,343 [DEBUG] amqp _on_open_ok Channel open\n",
      "2021-02-17 01:28:24,374 [INFO] sarracenia.moth.amqp __getSetup queue declared q_anonymous_subscribe.hpfx_amis.05188308.99615813 (as: amqps://anonymous@hpfx.collab.science.gc.ca/) \n",
      "2021-02-17 01:28:24,374 [INFO] sarracenia.moth.amqp __getSetup binding q_anonymous_subscribe.hpfx_amis.05188308.99615813 with v02.post.# to xpublic (as: amqps://anonymous@hpfx.collab.science.gc.ca/)\n",
      "2021-02-17 01:28:24,392 [DEBUG] sarracenia.moth.amqp __getSetup getSetup ... Done!\n",
      "2021-02-17 01:28:24,392 [DEBUG] sarracenia.config check_undeclared_options start\n",
      "2021-02-17 01:28:24,392 [DEBUG] sarracenia.config check_undeclared_options done\n",
      "2021-02-17 01:28:24,392 [DEBUG] sarracenia.flow run working directory: /home/peter/Projects/jupyter\n",
      "2021-02-17 01:28:24,392 [INFO] sarracenia.flow run options:\n",
      "_Config__admin=amqp://bunnymaster@localhost,\n",
      "_Config__broker=amqps://anonymous@hpfx.collab.science.gc.ca,\n",
      "_Config__post_broker=None, accel_threshold=0, accept_unmatch=True,\n",
      "accept_unmatched=True, action='foreground', attempts=3, auto_delete=False,\n",
      "baseDir=None, batch=1, bind=True, bindings=[('v02.post', 'xpublic', '#')],\n",
      "bufsize=1048576, bytes_per_second=None, bytes_ps=0,\n",
      "cfg_run_dir='/home/peter/.cache/sr3/subscribe/hpfx_amis', chmod=0,\n",
      "chmod_dir=509, chmod_log=384, configurations=['subscribe/hpfx_amis.conf'],\n",
      "currentDir=None, dangerWillRobinson=False, debug=True, declare=True,\n",
      "declared_exchanges=['xpublic', 'xcvan01'],\n",
      "declared_users={'tfeed': 'feeder', 'tsub': 'subscriber', 'tsource': 'source', 'anonymous': 'subscriber', 'ender': 'source', 'eggmeister': 'subscriber'},\n",
      "delete=False, destfn_script=None, directory='/tmp/amis/', documentRoot=None,\n",
      "download=True, durable=True, exchange='xpublic', expire=600.0,\n",
      "feeder=amqp://tfeed@localhost, filename=None, fixed_headers={}, flatten='/',\n",
      "hostdir='fractal', hostname='fractal', housekeeping=30, imports=[],\n",
      "inflight=None, inline=False, inline_encoding='guess', inline_max=4096,\n",
      "instances=5,\n",
      "logFormat='%(asctime)s [%(levelname)s] %(name)s %(funcName)s %(message)s',\n",
      "logLevel='debug', log_reject=False, lr_backupCount=5, lr_interval=1,\n",
      "lr_when='midnight',\n",
      "masks=[('.*', '/tmp/amis/', None, re.compile('.*'), True, True, 0, False, '/')],\n",
      "message_count_max=5, message_rate_max=0, message_rate_min=0,\n",
      "message_strategy={'reset': True, 'stubborn': True, 'failure_duration': '5m'},\n",
      "message_ttl=0, mirror=True, no=0, notify_only=False, overwrite=True,\n",
      "pid_filename='/home/peter/.cache/sr3/subscribe/hpfx_amis//subscribe_hpfx_amis_00.pid',\n",
      "plugins=[], post_baseDir=None, post_baseUrl=None, post_documentRoot=None,\n",
      "post_exchanges=[], post_topic_prefix='v02.post', prefetch=1, preserve_mode=True,\n",
      "preserve_time=True, program_name='subscribe', pstrip=False,\n",
      "queue_filename='/home/peter/.cache/sr3/subscribe/hpfx_amis/subscribe.hpfx_amis.anonymous.qname',\n",
      "queue_name='q_anonymous_subscribe.hpfx_amis.05188308.99615813', randid='65f0',\n",
      "realpath_post=False, report_back=False, report_daemons=False, reset=False,\n",
      "retry_path='/home/peter/.cache/sr3/subscribe/hpfx_amis//subscribe_hpfx_amis_00.retry',\n",
      "settings={}, sleep=0.1, statehost=False, strip=0, subtopic=None,\n",
      "suppress_duplicates=0, suppress_duplicates_basis='path', timeout=300,\n",
      "tls_rigour='normal', topic_prefix='v02.post', undeclared=[], users=False,\n",
      "v2plugin_options=[], v2plugins={}, vhost='/', vip=None\n",
      "2021-02-17 01:28:24,392 [INFO] sarracenia.flow run callbacks loaded: ['sarracenia.flowcb.retry.Retry', 'sarracenia.flowcb.v2wrapper.V2Wrapper', 'sarracenia.flowcb.gather.message.Message']\n",
      "2021-02-17 01:28:24,392 [INFO] sarracenia.flowcb.retry on_start sr_retry on_start\n",
      "2021-02-17 01:28:24,392 [INFO] sarracenia.flowcb.v2wrapper on_time v2 run on_start\n",
      "2021-02-17 01:28:24,411 [DEBUG] sarracenia.moth.amqp getNewMessage new msg: {'sundew_extension': 'DMS:WXO_RENAMED_SWOB2:MSC:XML::20210217062741', 'from_cluster': 'DDSR.CMC', 'to_clusters': 'DDSR.CMC,DDI.CMC,CMC,SCIENCE,EDM', 'filename': 'msg_ddsr-WXO-DD_34621b0c0b24f95f21726b4d53c462e2:DMS:WXO_RENAMED_SWOB2:MSC:XML::20210217062741', 'source': 'WXO-DD', 'mtime': '20210217T062742.126', 'atime': '20210217T062742.126', 'topic': 'v02.post.20210217.WXO-DD.observations.swob-ml.20210217.CWRM', '_deleteOnPost': ['delivery_tag', 'exchange', 'local_offset', 'topic'], 'pubTime': '20210217T062742.126', 'baseUrl': 'https://hpfx.collab.science.gc.ca', 'relPath': '/20210217/WXO-DD/observations/swob-ml/20210217/CWRM/2021-02-17-0627-CWRM-AUTO-minute-swob.xml', 'integrity': {'method': 'md5', 'value': '8cfEhoE05l/pPF7PIyslDA=='}, 'size': 9373, 'exchange': 'xpublic', 'delivery_tag': 1, 'local_offset': 0}\n",
      "2021-02-17 01:28:24,411 [DEBUG] sarracenia.flow ackOKandRejected A gathered incoming: 1, ok: 0, rejected: 0, failed: 0\n",
      "2021-02-17 01:28:24,411 [DEBUG] sarracenia.flow ackOKandRejected B filtered incoming: 1, ok: 0, rejected: 0, failed: 0\n",
      "2021-02-17 01:28:24,411 [DEBUG] sarracenia.flow download https_transport download\n",
      "2021-02-17 01:28:24,411 [DEBUG] sarracenia.flow download https_transport download connects\n",
      "2021-02-17 01:28:24,411 [DEBUG] sarracenia.transfer __init__ sr_proto __init__: subclasses=[<class 'sarracenia.transfer.ftp.Ftp'>, <class 'sarracenia.transfer.sftp.Sftp'>, <class 'sarracenia.transfer.https.Https'>, <class 'sarracenia.transfer.file.File'>]\n",
      "2021-02-17 01:28:24,411 [DEBUG] sarracenia.transfer.https init sr_http init\n",
      "2021-02-17 01:28:24,411 [DEBUG] sarracenia.transfer.https __init__ sr_http __init__\n",
      "2021-02-17 01:28:24,412 [DEBUG] sarracenia.transfer.https init sr_http init\n",
      "2021-02-17 01:28:24,412 [DEBUG] sarracenia.flow download HOHO proto <class 'dict'> \n",
      "2021-02-17 01:28:24,412 [DEBUG] sarracenia.transfer.https connect sr_http connect https://hpfx.collab.science.gc.ca\n",
      "2021-02-17 01:28:24,412 [DEBUG] sarracenia.transfer.https credentials sr_http credentials https://hpfx.collab.science.gc.ca\n",
      "2021-02-17 01:28:24,412 [DEBUG] sarracenia.flow download connected\n",
      "2021-02-17 01:28:24,412 [DEBUG] sarracenia.flow download  proto <class 'sarracenia.transfer.https.Https'> \n",
      "2021-02-17 01:28:24,412 [DEBUG] sarracenia.flow download https_transport download cd to //20210217/WXO-DD/observations/swob-ml/20210217/CWRM\n",
      "2021-02-17 01:28:24,412 [DEBUG] sarracenia.transfer.https cd sr_http cd //20210217/WXO-DD/observations/swob-ml/20210217/CWRM\n",
      "2021-02-17 01:28:24,412 [DEBUG] sarracenia.flow download Beginning fetch of https://hpfx.collab.science.gc.ca//20210217/WXO-DD/observations/swob-ml/20210217/CWRM/2021-02-17-0627-CWRM-AUTO-minute-swob.xml  into 2021-02-17-0627-CWRM-AUTO-minute-swob.xml 0-9372\n",
      "2021-02-17 01:28:24,412 [DEBUG] sarracenia.transfer set_sumalgo sr_proto set_sumalgo md5\n",
      "2021-02-17 01:28:24,412 [DEBUG] sarracenia.flow download hasattr=True, thresh=0, len=9373, remote_off=0, local_off=0 \n",
      "2021-02-17 01:28:24,412 [DEBUG] sarracenia.transfer.https get sr_http get 2021-02-17-0627-CWRM-AUTO-minute-swob.xml 2021-02-17-0627-CWRM-AUTO-minute-swob.xml 0\n",
      "2021-02-17 01:28:24,412 [DEBUG] sarracenia.transfer.https get sr_http self.path //20210217/WXO-DD/observations/swob-ml/20210217/CWRM\n",
      "2021-02-17 01:28:24,412 [DEBUG] sarracenia.transfer.https __open__ sr_http open\n",
      "2021-02-17 01:28:24,496 [DEBUG] sarracenia.transfer read_write sr_proto read_write\n",
      "2021-02-17 01:28:24,503 [INFO] sarracenia.flow do_download downloaded ok: /tmp/amis/20210217/WXO-DD/observations/swob-ml/20210217/CWRM/2021-02-17-0627-CWRM-AUTO-minute-swob.xml\n",
      "2021-02-17 01:28:24,503 [INFO] sarracenia.flow.subscribe do processing 1 messages worked!\n",
      "2021-02-17 01:28:24,503 [WARNING] sarracenia.flow run message_count_max: 5, total_messages: 1 last_gather_len: 1\n",
      "2021-02-17 01:28:24,503 [DEBUG] sarracenia.flow run worked too long to sleep!\n",
      "2021-02-17 01:28:24,521 [DEBUG] sarracenia.moth.amqp getNewMessage new msg: {'sundew_extension': 'DMS:WXO_RENAMED_SWOB2:MSC:XML::20210217062741', 'from_cluster': 'DDSR.CMC', 'to_clusters': 'DDSR.CMC,DDI.CMC,CMC,SCIENCE,EDM', 'filename': 'msg_ddsr-WXO-DD_8b266e75e5ab6c3cc3481e2aaf6e987f:DMS:WXO_RENAMED_SWOB2:MSC:XML::20210217062741', 'source': 'WXO-DD', 'mtime': '20210217T062742.127', 'atime': '20210217T062742.127', 'topic': 'v02.post.20210217.WXO-DD.observations.swob-ml.20210217.CWHV', '_deleteOnPost': ['delivery_tag', 'exchange', 'local_offset', 'topic'], 'pubTime': '20210217T062742.127', 'baseUrl': 'https://hpfx.collab.science.gc.ca', 'relPath': '/20210217/WXO-DD/observations/swob-ml/20210217/CWHV/2021-02-17-0627-CWHV-AUTO-minute-swob.xml', 'integrity': {'method': 'md5', 'value': 'WBAqvdDQ3YfUyu6cLj6WXw=='}, 'size': 8816, 'exchange': 'xpublic', 'delivery_tag': 2, 'local_offset': 0}\n",
      "2021-02-17 01:28:24,521 [DEBUG] sarracenia.flow ackOKandRejected A gathered incoming: 1, ok: 0, rejected: 0, failed: 0\n",
      "2021-02-17 01:28:24,521 [DEBUG] sarracenia.flow ackOKandRejected B filtered incoming: 1, ok: 0, rejected: 0, failed: 0\n",
      "2021-02-17 01:28:24,521 [DEBUG] sarracenia.flow download https_transport download\n",
      "2021-02-17 01:28:24,521 [DEBUG] sarracenia.transfer.https check_is_connected sr_http check_is_connected\n",
      "2021-02-17 01:28:24,521 [DEBUG] sarracenia.flow download  proto <class 'sarracenia.transfer.https.Https'> \n",
      "2021-02-17 01:28:24,521 [DEBUG] sarracenia.flow download https_transport download cd to //20210217/WXO-DD/observations/swob-ml/20210217/CWHV\n",
      "2021-02-17 01:28:24,521 [DEBUG] sarracenia.transfer.https cd sr_http cd //20210217/WXO-DD/observations/swob-ml/20210217/CWHV\n",
      "2021-02-17 01:28:24,521 [DEBUG] sarracenia.flow download Beginning fetch of https://hpfx.collab.science.gc.ca//20210217/WXO-DD/observations/swob-ml/20210217/CWHV/2021-02-17-0627-CWHV-AUTO-minute-swob.xml  into 2021-02-17-0627-CWHV-AUTO-minute-swob.xml 0-8815\n",
      "2021-02-17 01:28:24,521 [DEBUG] sarracenia.transfer set_sumalgo sr_proto set_sumalgo md5\n",
      "2021-02-17 01:28:24,521 [DEBUG] sarracenia.flow download hasattr=True, thresh=0, len=8816, remote_off=0, local_off=0 \n",
      "2021-02-17 01:28:24,521 [DEBUG] sarracenia.transfer.https get sr_http get 2021-02-17-0627-CWHV-AUTO-minute-swob.xml 2021-02-17-0627-CWHV-AUTO-minute-swob.xml 0\n",
      "2021-02-17 01:28:24,521 [DEBUG] sarracenia.transfer.https get sr_http self.path //20210217/WXO-DD/observations/swob-ml/20210217/CWHV\n",
      "2021-02-17 01:28:24,521 [DEBUG] sarracenia.transfer.https __open__ sr_http open\n"
     ]
    },
    {
     "name": "stdout",
     "output_type": "stream",
     "text": [
      "2021-02-17 01:28:24,613 [DEBUG] sarracenia.transfer read_write sr_proto read_write\n",
      "2021-02-17 01:28:24,616 [INFO] sarracenia.flow do_download downloaded ok: /tmp/amis/20210217/WXO-DD/observations/swob-ml/20210217/CWHV/2021-02-17-0627-CWHV-AUTO-minute-swob.xml\n",
      "2021-02-17 01:28:24,616 [INFO] sarracenia.flow.subscribe do processing 1 messages worked!\n",
      "2021-02-17 01:28:24,616 [WARNING] sarracenia.flow run message_count_max: 5, total_messages: 2 last_gather_len: 1\n",
      "2021-02-17 01:28:24,616 [DEBUG] sarracenia.flow run worked too long to sleep!\n",
      "2021-02-17 01:28:24,632 [DEBUG] sarracenia.moth.amqp getNewMessage new msg: {'sundew_extension': 'DMS:WXO_RENAMED_SWOB2:MSC:XML::20210217062741', 'from_cluster': 'DDSR.CMC', 'to_clusters': 'DDSR.CMC,DDI.CMC,CMC,SCIENCE,EDM', 'filename': 'msg_ddsr-WXO-DD_92a7eb924433c0d0e29a268629b1b74f:DMS:WXO_RENAMED_SWOB2:MSC:XML::20210217062741', 'source': 'WXO-DD', 'mtime': '20210217T062742.128', 'atime': '20210217T062742.128', 'topic': 'v02.post.20210217.WXO-DD.observations.swob-ml.20210217.CWON', '_deleteOnPost': ['delivery_tag', 'exchange', 'local_offset', 'topic'], 'pubTime': '20210217T062742.128', 'baseUrl': 'https://hpfx.collab.science.gc.ca', 'relPath': '/20210217/WXO-DD/observations/swob-ml/20210217/CWON/2021-02-17-0627-CWON-AUTO-minute-swob.xml', 'integrity': {'method': 'md5', 'value': 'SDLDQG8aHn/XVU50giRQsA=='}, 'size': 9511, 'exchange': 'xpublic', 'delivery_tag': 3, 'local_offset': 0}\n",
      "2021-02-17 01:28:24,632 [DEBUG] sarracenia.flow ackOKandRejected A gathered incoming: 1, ok: 0, rejected: 0, failed: 0\n",
      "2021-02-17 01:28:24,632 [DEBUG] sarracenia.flow ackOKandRejected B filtered incoming: 1, ok: 0, rejected: 0, failed: 0\n",
      "2021-02-17 01:28:24,632 [DEBUG] sarracenia.flow download https_transport download\n",
      "2021-02-17 01:28:24,632 [DEBUG] sarracenia.transfer.https check_is_connected sr_http check_is_connected\n",
      "2021-02-17 01:28:24,633 [DEBUG] sarracenia.flow download  proto <class 'sarracenia.transfer.https.Https'> \n",
      "2021-02-17 01:28:24,633 [DEBUG] sarracenia.flow download https_transport download cd to //20210217/WXO-DD/observations/swob-ml/20210217/CWON\n",
      "2021-02-17 01:28:24,633 [DEBUG] sarracenia.transfer.https cd sr_http cd //20210217/WXO-DD/observations/swob-ml/20210217/CWON\n",
      "2021-02-17 01:28:24,633 [DEBUG] sarracenia.flow download Beginning fetch of https://hpfx.collab.science.gc.ca//20210217/WXO-DD/observations/swob-ml/20210217/CWON/2021-02-17-0627-CWON-AUTO-minute-swob.xml  into 2021-02-17-0627-CWON-AUTO-minute-swob.xml 0-9510\n",
      "2021-02-17 01:28:24,633 [DEBUG] sarracenia.transfer set_sumalgo sr_proto set_sumalgo md5\n",
      "2021-02-17 01:28:24,633 [DEBUG] sarracenia.flow download hasattr=True, thresh=0, len=9511, remote_off=0, local_off=0 \n",
      "2021-02-17 01:28:24,633 [DEBUG] sarracenia.transfer.https get sr_http get 2021-02-17-0627-CWON-AUTO-minute-swob.xml 2021-02-17-0627-CWON-AUTO-minute-swob.xml 0\n",
      "2021-02-17 01:28:24,633 [DEBUG] sarracenia.transfer.https get sr_http self.path //20210217/WXO-DD/observations/swob-ml/20210217/CWON\n",
      "2021-02-17 01:28:24,633 [DEBUG] sarracenia.transfer.https __open__ sr_http open\n",
      "2021-02-17 01:28:24,809 [DEBUG] sarracenia.transfer read_write sr_proto read_write\n",
      "2021-02-17 01:28:24,812 [INFO] sarracenia.flow do_download downloaded ok: /tmp/amis/20210217/WXO-DD/observations/swob-ml/20210217/CWON/2021-02-17-0627-CWON-AUTO-minute-swob.xml\n",
      "2021-02-17 01:28:24,812 [INFO] sarracenia.flow.subscribe do processing 1 messages worked!\n",
      "2021-02-17 01:28:24,813 [WARNING] sarracenia.flow run message_count_max: 5, total_messages: 3 last_gather_len: 1\n",
      "2021-02-17 01:28:24,813 [DEBUG] sarracenia.flow run worked too long to sleep!\n",
      "2021-02-17 01:28:24,833 [DEBUG] sarracenia.moth.amqp getNewMessage new msg: {'sundew_extension': 'DMS:WXO_RENAMED_SWOB2:MSC:XML::20210217062741', 'from_cluster': 'DDSR.CMC', 'to_clusters': 'DDSR.CMC,DDI.CMC,CMC,SCIENCE,EDM', 'filename': 'msg_ddsr-WXO-DD_a978e332cae86fbe09581a4f504a14b1:DMS:WXO_RENAMED_SWOB2:MSC:XML::20210217062741', 'source': 'WXO-DD', 'mtime': '20210217T062742.129', 'atime': '20210217T062742.129', 'topic': 'v02.post.20210217.WXO-DD.observations.swob-ml.20210217.CWFQ', '_deleteOnPost': ['delivery_tag', 'exchange', 'local_offset', 'topic'], 'pubTime': '20210217T062742.129', 'baseUrl': 'https://hpfx.collab.science.gc.ca', 'relPath': '/20210217/WXO-DD/observations/swob-ml/20210217/CWFQ/2021-02-17-0627-CWFQ-AUTO-minute-swob.xml', 'integrity': {'method': 'md5', 'value': 'CyVafoKpLIqGvsSAHmTVqw=='}, 'size': 9695, 'exchange': 'xpublic', 'delivery_tag': 4, 'local_offset': 0}\n",
      "2021-02-17 01:28:24,833 [DEBUG] sarracenia.flow ackOKandRejected A gathered incoming: 1, ok: 0, rejected: 0, failed: 0\n",
      "2021-02-17 01:28:24,833 [DEBUG] sarracenia.flow ackOKandRejected B filtered incoming: 1, ok: 0, rejected: 0, failed: 0\n",
      "2021-02-17 01:28:24,833 [DEBUG] sarracenia.flow download https_transport download\n",
      "2021-02-17 01:28:24,833 [DEBUG] sarracenia.transfer.https check_is_connected sr_http check_is_connected\n",
      "2021-02-17 01:28:24,833 [DEBUG] sarracenia.flow download  proto <class 'sarracenia.transfer.https.Https'> \n",
      "2021-02-17 01:28:24,833 [DEBUG] sarracenia.flow download https_transport download cd to //20210217/WXO-DD/observations/swob-ml/20210217/CWFQ\n",
      "2021-02-17 01:28:24,833 [DEBUG] sarracenia.transfer.https cd sr_http cd //20210217/WXO-DD/observations/swob-ml/20210217/CWFQ\n",
      "2021-02-17 01:28:24,833 [DEBUG] sarracenia.flow download Beginning fetch of https://hpfx.collab.science.gc.ca//20210217/WXO-DD/observations/swob-ml/20210217/CWFQ/2021-02-17-0627-CWFQ-AUTO-minute-swob.xml  into 2021-02-17-0627-CWFQ-AUTO-minute-swob.xml 0-9694\n",
      "2021-02-17 01:28:24,833 [DEBUG] sarracenia.transfer set_sumalgo sr_proto set_sumalgo md5\n",
      "2021-02-17 01:28:24,833 [DEBUG] sarracenia.flow download hasattr=True, thresh=0, len=9695, remote_off=0, local_off=0 \n",
      "2021-02-17 01:28:24,833 [DEBUG] sarracenia.transfer.https get sr_http get 2021-02-17-0627-CWFQ-AUTO-minute-swob.xml 2021-02-17-0627-CWFQ-AUTO-minute-swob.xml 0\n",
      "2021-02-17 01:28:24,833 [DEBUG] sarracenia.transfer.https get sr_http self.path //20210217/WXO-DD/observations/swob-ml/20210217/CWFQ\n",
      "2021-02-17 01:28:24,833 [DEBUG] sarracenia.transfer.https __open__ sr_http open\n",
      "2021-02-17 01:28:24,976 [DEBUG] sarracenia.transfer read_write sr_proto read_write\n",
      "2021-02-17 01:28:24,979 [INFO] sarracenia.flow do_download downloaded ok: /tmp/amis/20210217/WXO-DD/observations/swob-ml/20210217/CWFQ/2021-02-17-0627-CWFQ-AUTO-minute-swob.xml\n",
      "2021-02-17 01:28:24,979 [INFO] sarracenia.flow.subscribe do processing 1 messages worked!\n",
      "2021-02-17 01:28:24,980 [WARNING] sarracenia.flow run message_count_max: 5, total_messages: 4 last_gather_len: 1\n",
      "2021-02-17 01:28:24,980 [DEBUG] sarracenia.flow run worked too long to sleep!\n",
      "2021-02-17 01:28:24,997 [DEBUG] sarracenia.moth.amqp getNewMessage new msg: {'sundew_extension': 'DMS:WXO_RENAMED_SWOB2:MSC:XML::20210217062741', 'from_cluster': 'DDSR.CMC', 'to_clusters': 'DDSR.CMC,DDI.CMC,CMC,SCIENCE,EDM', 'filename': 'msg_ddsr-WXO-DD_d878e606facd39120bf1d8586b534269:DMS:WXO_RENAMED_SWOB2:MSC:XML::20210217062741', 'source': 'WXO-DD', 'mtime': '20210217T062742.129', 'atime': '20210217T062742.129', 'topic': 'v02.post.20210217.WXO-DD.observations.swob-ml.20210217.CWNE', '_deleteOnPost': ['delivery_tag', 'exchange', 'local_offset', 'topic'], 'pubTime': '20210217T062742.129', 'baseUrl': 'https://hpfx.collab.science.gc.ca', 'relPath': '/20210217/WXO-DD/observations/swob-ml/20210217/CWNE/2021-02-17-0627-CWNE-AUTO-minute-swob.xml', 'integrity': {'method': 'md5', 'value': 'yRp/A50bEGQomTDNSFNWEg=='}, 'size': 8535, 'exchange': 'xpublic', 'delivery_tag': 5, 'local_offset': 0}\n",
      "2021-02-17 01:28:24,997 [DEBUG] sarracenia.flow ackOKandRejected A gathered incoming: 1, ok: 0, rejected: 0, failed: 0\n",
      "2021-02-17 01:28:24,997 [DEBUG] sarracenia.flow ackOKandRejected B filtered incoming: 1, ok: 0, rejected: 0, failed: 0\n",
      "2021-02-17 01:28:24,997 [DEBUG] sarracenia.flow download https_transport download\n",
      "2021-02-17 01:28:24,997 [DEBUG] sarracenia.transfer.https check_is_connected sr_http check_is_connected\n",
      "2021-02-17 01:28:24,997 [DEBUG] sarracenia.flow download  proto <class 'sarracenia.transfer.https.Https'> \n",
      "2021-02-17 01:28:24,997 [DEBUG] sarracenia.flow download https_transport download cd to //20210217/WXO-DD/observations/swob-ml/20210217/CWNE\n",
      "2021-02-17 01:28:24,997 [DEBUG] sarracenia.transfer.https cd sr_http cd //20210217/WXO-DD/observations/swob-ml/20210217/CWNE\n",
      "2021-02-17 01:28:24,997 [DEBUG] sarracenia.flow download Beginning fetch of https://hpfx.collab.science.gc.ca//20210217/WXO-DD/observations/swob-ml/20210217/CWNE/2021-02-17-0627-CWNE-AUTO-minute-swob.xml  into 2021-02-17-0627-CWNE-AUTO-minute-swob.xml 0-8534\n",
      "2021-02-17 01:28:24,997 [DEBUG] sarracenia.transfer set_sumalgo sr_proto set_sumalgo md5\n",
      "2021-02-17 01:28:24,997 [DEBUG] sarracenia.flow download hasattr=True, thresh=0, len=8535, remote_off=0, local_off=0 \n",
      "2021-02-17 01:28:24,997 [DEBUG] sarracenia.transfer.https get sr_http get 2021-02-17-0627-CWNE-AUTO-minute-swob.xml 2021-02-17-0627-CWNE-AUTO-minute-swob.xml 0\n",
      "2021-02-17 01:28:24,997 [DEBUG] sarracenia.transfer.https get sr_http self.path //20210217/WXO-DD/observations/swob-ml/20210217/CWNE\n",
      "2021-02-17 01:28:24,997 [DEBUG] sarracenia.transfer.https __open__ sr_http open\n"
     ]
    },
    {
     "name": "stdout",
     "output_type": "stream",
     "text": [
      "2021-02-17 01:28:25,088 [DEBUG] sarracenia.transfer read_write sr_proto read_write\n",
      "2021-02-17 01:28:25,091 [INFO] sarracenia.flow do_download downloaded ok: /tmp/amis/20210217/WXO-DD/observations/swob-ml/20210217/CWNE/2021-02-17-0627-CWNE-AUTO-minute-swob.xml\n",
      "2021-02-17 01:28:25,091 [INFO] sarracenia.flow.subscribe do processing 1 messages worked!\n",
      "2021-02-17 01:28:25,091 [WARNING] sarracenia.flow run message_count_max: 5, total_messages: 5 last_gather_len: 1\n",
      "2021-02-17 01:28:25,091 [INFO] sarracenia.flowcb.v2wrapper on_time v2 run on_stop\n",
      "2021-02-17 01:28:25,106 [DEBUG] amqp collect Closed channel #1\n",
      "2021-02-17 01:28:25,106 [INFO] sarracenia.flowcb.gather.message on_stop closing\n",
      "2021-02-17 01:28:25,106 [INFO] sarracenia.flow close flow/close completed cleanly\n",
      "\n"
     ]
    }
   ],
   "source": [
    "!sr3 foreground subscribe/hpfx_amis.conf"
   ]
  },
  {
   "cell_type": "code",
   "execution_count": null,
   "id": "synthetic-assembly",
   "metadata": {},
   "outputs": [],
   "source": [
    "as you can see it downloaded five files to /tmp/amis.\n",
    "The _foreground_ action is intended to help with debugging, rather than real operations."
   ]
  },
  {
   "cell_type": "code",
   "execution_count": 7,
   "id": "split-writing",
   "metadata": {
    "scrolled": false
   },
   "outputs": [
    {
     "name": "stdout",
     "output_type": "stream",
     "text": [
      "status: \r\n",
      "Component/Config                         State        Run  Miss   Exp Retry\r\n",
      "----------------                         -----        ---  ----   --- -----\r\n",
      "subscribe/hpfx_amis                      stopped        0     0     0    17\r\n",
      "      total running configs:   0 ( processes: 0 missing: 0 stray: 0 )\r\n"
     ]
    }
   ],
   "source": [
    "!sr3 status"
   ]
  },
  {
   "cell_type": "markdown",
   "id": "rocky-unemployment",
   "metadata": {},
   "source": [
    "There is 1 configuration in your list.  You can have hundreds.  The columns on the right refer to how many instances you have for each configuration. In the example above _instances_ is set to 5, so one would expect to see 5 running instances when it would be running. You can start specifc configuration with _sr3 start subscribe/*_ or start all active instances with: _sr3 start_\n",
    "\n",
    "!sr3 log subscribe/hpfx_amis.conf\n",
    "\n",
    "    tail: cannot open '/home/peter/.cache/sr3/log/subscribe_hpfx_amis_01.log' for reading: No such file or    directory\n",
    "    tail: no files remaining\n",
    "    2021-02-17 01:10:09,252 [ERROR] root run_command subprocess.run failed err=Command '['tail', '-f', '/home/peter/.cache/sr3/log/subscribe_hpfx_amis_01.log']' returned non-zero exit status 1.\n",
    "    \n",
    "When running in the background, output needs to go a log file. As we have only run this configuration file in the foreground, asking to see the log prints an error about the log being missing. This tells you that the logs are in the _~/.cache/sr3/log_ directory. Logs can be monitored in real-time with traditional tools such as _tail -f_ or  _grep_.\n",
    "\n",
    "_sr3 stop_ does what you expect.\n",
    "\n",
    "Processes can crash. In the _sr3 status_ output above, if the number of processes in the Run column is less than in the Exp (for Expected) one, then it means that some instances have crashed.  you can repair it (just start the missing instances) with:\n",
    "\n",
    "_sr3 sanity_  -- start missing instances, also kill strays if any found.\n",
    "\n",
    "So that's it, an introduction to running configurations in Sarracenia from the command line.\n",
    "\n",
    "\n",
    "# Conclusion\n",
    "\n",
    "If all you want to do is obtain data from a data pump in real-time, using the command line interface to control some processes that run all the time, so that they dump files in a certain directory is the easiest way to go.\n",
    "\n",
    "It isn't very efficient though.  When you have large numbers of files to work with, and you want high speed processing, it is better, in the sense of lower cpu and i/o overhead, and in terms of speed of processing,\n",
    "to have your own application informed of the arrival of files, rather than scanning a directory.\n",
    "\n",
    "The easiest way to do that is to add some callbacks to your flows.  We'll cover that next."
   ]
  },
  {
   "cell_type": "code",
   "execution_count": null,
   "id": "congressional-australia",
   "metadata": {},
   "outputs": [],
   "source": []
  }
 ],
 "metadata": {
  "kernelspec": {
   "display_name": "Python 3",
   "language": "python",
   "name": "python3"
  },
  "language_info": {
   "codemirror_mode": {
    "name": "ipython",
    "version": 3
   },
   "file_extension": ".py",
   "mimetype": "text/x-python",
   "name": "python",
   "nbconvert_exporter": "python",
   "pygments_lexer": "ipython3",
   "version": "3.8.5"
  }
 },
 "nbformat": 4,
 "nbformat_minor": 5
}
