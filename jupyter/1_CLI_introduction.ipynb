{
 "cells": [
  {
   "cell_type": "code",
   "execution_count": 1,
   "id": "designing-laptop",
   "metadata": {},
   "outputs": [],
   "source": [
    "import sarracenia\n",
    "!mkdir -p ~/.config/sr3/subscribe\n",
    "!mkdir -p ~/.cache/sr3/log"
   ]
  },
  {
   "cell_type": "markdown",
   "id": "chubby-tenant",
   "metadata": {},
   "source": [
    "\n",
    "# Prequisites\n",
    "The above is just a way to get jupyter notebooks to install metpx-sr3 on a server.\n",
    "Creating some directories in case people use API access without running things through the API.\n",
    "Not sure if the above works.  The basic pre-requisite is to have metpx-sr3 installed somehow,\n",
    "either as a .deb package, or using pip (or pip3) available to the environment used by jupyter.\n",
    "\n",
    "The rest of this notebook assumes metpx-sr3 is installed.\n",
    "\n",
    "\n",
    "# Command Line Interface\n",
    "\n",
    "This notebook introduces sarracenia v3 usage from the command line (mostly on Linux, \n",
    "but should be similar on Windows and Mac also, main difference being different conventions for where\n",
    "preferences and logs are stored. This is probably the easiest way to work with Sarracenia. You\n",
    "configure a flow to download files into a directory, and you can read the directory to\n",
    "process the files there.\n"
   ]
  },
  {
   "cell_type": "markdown",
   "id": "absolute-integral",
   "metadata": {},
   "source": [
    "# SR3\n",
    "\n",
    "The command line interface is called _sr3_ (short for Sarracenia version 3). One defines\n",
    "flows to run using configuration files in a simple format: _keyword_ _value_ format.\n",
    "there are example configurations to get you started:"
   ]
  },
  {
   "cell_type": "code",
   "execution_count": 1,
   "id": "drawn-opposition",
   "metadata": {
    "scrolled": false
   },
   "outputs": [
    {
     "name": "stdout",
     "output_type": "stream",
     "text": [
      "Sample Configurations: (from: /usr/lib/python3/dist-packages/sarracenia/examples )\r\n",
      "cpump/cno_trouble_f00.inc        poll/aws-nexrad.conf             \r\n",
      "poll/pollingest.conf             poll/pollnoaa.conf               \r\n",
      "poll/pollsoapshc.conf            poll/pollusgs.conf               \r\n",
      "poll/pulse.conf                  post/WMO_mesh_post.conf          \r\n",
      "sarra/wmo_mesh.conf              sender/ec2collab.conf            \r\n",
      "sender/pitcher_push.conf         shovel/no_trouble_f00.inc        \r\n",
      "subscribe/WMO_Sketch_2mqtt.conf  subscribe/WMO_Sketch_2v3.conf    \r\n",
      "subscribe/WMO_mesh_CMC.conf      subscribe/WMO_mesh_Peer.conf     \r\n",
      "subscribe/aws-nexrad.conf        subscribe/dd_2mqtt.conf          \r\n",
      "subscribe/dd_all.conf            subscribe/dd_amis.conf           \r\n",
      "subscribe/dd_aqhi.conf           subscribe/dd_cacn_bulletins.conf \r\n",
      "subscribe/dd_citypage.conf       subscribe/dd_cmml.conf           \r\n",
      "subscribe/dd_gdps.conf           subscribe/dd_ping.conf           \r\n",
      "subscribe/dd_radar.conf          subscribe/dd_rdps.conf           \r\n",
      "subscribe/dd_swob.conf           subscribe/ddc_cap-xml.conf       \r\n",
      "subscribe/ddc_normal.conf        subscribe/downloademail.conf     \r\n",
      "subscribe/ec_ninjo-a.conf        subscribe/hpfx_amis.conf         \r\n",
      "subscribe/local_sub.conf         subscribe/pitcher_pull.conf      \r\n",
      "subscribe/sci2ec.conf            subscribe/subnoaa.conf           \r\n",
      "subscribe/subsoapshc.conf        subscribe/subusgs.conf           \r\n",
      "sender/ec2collab.conf            sender/pitcher_push.conf         \r\n",
      "watch/master.conf                watch/pitcher_client.conf        \r\n",
      "watch/pitcher_server.conf        watch/sci2ec.conf                \r\n"
     ]
    }
   ],
   "source": [
    "!sr3 list examples"
   ]
  },
  {
   "cell_type": "markdown",
   "id": "affecting-marking",
   "metadata": {},
   "source": [
    "There are different kinds for flows: the examples are classified flow type (poll, post, sarra, sender, shovel...)\n",
    "A _subscribe_ is used by clients to download from a data pump. Let's pick one of those."
   ]
  },
  {
   "cell_type": "code",
   "execution_count": 1,
   "id": "egyptian-suicide",
   "metadata": {
    "scrolled": true
   },
   "outputs": [
    {
     "name": "stdout",
     "output_type": "stream",
     "text": [
      "2021-08-25 13:55:17,896 [INFO] sarracenia.config fill_missing_options overriding batch for consistency with message_count_max: 10\r\n",
      "add: 2021-08-25 13:55:17,897 [ERROR] root add nothing specified to add\r\n",
      "\r\n"
     ]
    }
   ],
   "source": [
    "!sr3 add subscribe/hpfx_amis.conf"
   ]
  },
  {
   "cell_type": "markdown",
   "id": "overall-instruction",
   "metadata": {},
   "source": [
    "The files that are active for you are place in ~/.config/sr3/<flow_type>/config_name.  You can browse there \n",
    "and modify them with an editor if you like.  You can do that also with  _sr3 edit subscribe/hpfx_amis.conf_\n",
    "\n",
    "    # this is a feed of wmo bulletin (a set called AMIS in the old times)\n",
    "\n",
    "    broker amqps://hpfx.collab.science.gc.ca/\n",
    "    exchange xpublic\n",
    "\n",
    "    # instances: number of downloading processes to run at once.  defaults to 1. Not enough for this case\n",
    "    instances 5\n",
    "   \n",
    "    # expire, in operational use, should be longer than longest expected interruption\n",
    "    expire 10m\n",
    "\n",
    "    message_count_max 5\n",
    "    topic_prefix v02.post\n",
    "    subtopic *.WXO-DD.bulletins.alphanumeric.#\n",
    "    mirror true\n",
    "    directory /tmp/amis/\n",
    "    accept .*\n",
    "\n",
    "added the message_count_max, so it doesn't run forever."
   ]
  },
  {
   "cell_type": "code",
   "execution_count": 2,
   "id": "primary-score",
   "metadata": {},
   "outputs": [
    {
     "name": "stdout",
     "output_type": "stream",
     "text": [
      "mkdir: cannot create directory ‘/tmp/amis’: File exists\r\n"
     ]
    }
   ],
   "source": [
    "!mkdir /tmp/amis\n",
    "!echo message_count_max 10 >>~/.config/sr3/subscribe/hpfx_amis.conf"
   ]
  },
  {
   "cell_type": "markdown",
   "id": "ancient-scholarship",
   "metadata": {},
   "source": [
    "The root directory where files are to be placed needs to exist before you start.\n",
    "the above commands are to configure on a linux machine, you might need something else on a mac or windows.\n",
    "\n",
    "You can then run a flow interactively with the _foreground_ action, and it will end quickly, like so:"
   ]
  },
  {
   "cell_type": "code",
   "execution_count": 3,
   "id": "nominated-nerve",
   "metadata": {},
   "outputs": [
    {
     "name": "stdout",
     "output_type": "stream",
     "text": [
      "2021-08-25 13:55:52,908 [INFO] sarracenia.config fill_missing_options overriding batch for consistency with message_count_max: 10\n",
      "2021-08-25 13:55:53,001 [INFO] sarracenia.config fill_missing_options overriding batch for consistency with message_count_max: 10\n",
      "2021-08-25 13:55:53,001 [INFO] sarracenia.flow loadCallbacks imports to load: []\n",
      "2021-08-25 13:55:53,229 [INFO] sarracenia.moth.amqp __getSetup queue declared q_anonymous_subscribe.hpfx_amis.77623953.82674479 (as: amqps://anonymous@hpfx.collab.science.gc.ca/) \n",
      "2021-08-25 13:55:53,230 [INFO] sarracenia.moth.amqp __getSetup binding q_anonymous_subscribe.hpfx_amis.77623953.82674479 with v02.post.*.WXO-DD.bulletins.alphanumeric.# to xpublic (as: amqps://anonymous@hpfx.collab.science.gc.ca/)\n",
      "2021-08-25 13:55:53,248 [INFO] sarracenia.flow run options:\n",
      "_Config__admin=amqp://bunnymaster@localhost,\n",
      "_Config__broker=\"...ps://anonymous@hpfx.collab.science.gc.ca\",\n",
      "_Config__post_broker=None, accel_threshold=0, accept_unmatched=True,\n",
      "action='foreground', attempts=3, auto_delete=False, baseDir=None,\n",
      "baseUrl_relPath=False, batch=10, bind=True,\n",
      "bindings=\"... ['*.WXO-DD.bulletins.alphanumeric.#'])]\", bufsize=1048576,\n",
      "bytes_per_second=None, bytes_ps=0,\n",
      "cfg_run_dir=\"...me/peter/.cache/sr3/subscribe/hpfx_amis'\", chmod=0,\n",
      "chmod_dir=509, chmod_log=384, configurations=['subscribe/hpfx_amis.conf'],\n",
      "currentDir=None, dangerWillRobinson=False, debug=False, declare=True,\n",
      "declared_exchanges=[],\n",
      "declared_users=\"...': 'source', 'eggmeister': 'subscriber'}\", delete=False,\n",
      "destfn_script=None, directory='/tmp/amis/', discard=False, documentRoot=None,\n",
      "download=True, durable=True,\n",
      "env_declared=\"...OKER', 'MQP', 'SFTPUSER', 'TESTDOCROOT']\",\n",
      "events='create|delete|link|modify', exchange='xpublic', expire=600.0,\n",
      "feeder=amqp://tfeed@localhost, file_time_limit=5184000.0, filename=None,\n",
      "fixed_headers={}, flatten='/', hostdir='fractal', hostname='fractal',\n",
      "housekeeping=30, imports=[], inflight=None, inline=False,\n",
      "inline_encoding='guess', inline_max=4096, inline_only=False, instances=5,\n",
      "integrity_method='sha512',\n",
      "logFormat=\"...me)s] %(name)s %(funcName)s %(message)s'\", logLevel='info',\n",
      "log_reject=False, lr_backupCount=5, lr_interval=1, lr_when='midnight',\n",
      "masks=\"...mpile('.*'), True, True, 0, False, '/')]\", message_count_max=10,\n",
      "message_rate_max=0, message_rate_min=0,\n",
      "message_strategy=\"...ubborn': True, 'failure_duration': '5m'}\", message_ttl=0,\n",
      "mirror=True, no=0, nodupe_basis='path', nodupe_ttl=0, notify_only=False,\n",
      "overwrite=True, pid_filename=\"...e/hpfx_amis//subscribe_hpfx_amis_00.pid'\",\n",
      "plugins=[], post_baseDir=None, post_baseUrl=None, post_documentRoot=None,\n",
      "post_exchanges=[], post_topicPrefix=['v02', 'post'], prefetch=25,\n",
      "preserve_mode=True, preserve_time=True, program_name='subscribe', pstrip=False,\n",
      "queue_filename=\"...mis/subscribe.hpfx_amis.anonymous.qname'\",\n",
      "queue_name=\"...s_subscribe.hpfx_amis.77623953.82674479'\", randid='e2e0',\n",
      "realpath_post=False, report_back=False, reset=False,\n",
      "retry_path=\"...hpfx_amis//subscribe_hpfx_amis_00.retry'\", retry_ttl=600.0,\n",
      "settings={}, sleep=0.1, statehost=False, strip=0, subtopic=[], timeout=300,\n",
      "tls_rigour='normal', topicPrefix=['v02', 'post'], undeclared=[], users=False,\n",
      "v2plugin_options=[], v2plugins={}, vhost='/', vip=None\n",
      "2021-08-25 13:55:53,249 [INFO] sarracenia.flow run callbacks loaded: ['sarracenia.flowcb.retry.Retry', 'sarracenia.flowcb.v2wrapper.V2Wrapper', 'sarracenia.flowcb.gather.message.Message']\n",
      "2021-08-25 13:55:53,249 [INFO] sarracenia.flowcb.v2wrapper on_time v2 run on_start\n",
      "2021-08-25 13:55:54,691 [INFO] sarracenia.flow do_download downloaded ok: /tmp/amis/20210825/WXO-DD/bulletins/alphanumeric/20210825/SR/KWAL/17/SRMN20_KWAL_251755___50173\n",
      "2021-08-25 13:55:54,831 [INFO] sarracenia.flow do_download downloaded ok: /tmp/amis/20210825/WXO-DD/bulletins/alphanumeric/20210825/SR/KWAL/17/SRCN40_KWAL_251755___7626\n",
      "2021-08-25 13:55:54,957 [INFO] sarracenia.flow do_download downloaded ok: /tmp/amis/20210825/WXO-DD/bulletins/alphanumeric/20210825/SR/KWAL/17/SRCN40_KWAL_251755___44080\n",
      "2021-08-25 13:55:55,079 [INFO] sarracenia.flow do_download downloaded ok: /tmp/amis/20210825/WXO-DD/bulletins/alphanumeric/20210825/SP/CYPQ/17/SPCN61_CYPQ_251755___13172540\n",
      "2021-08-25 13:55:55,201 [INFO] sarracenia.flow do_download downloaded ok: /tmp/amis/20210825/WXO-DD/bulletins/alphanumeric/20210825/SX/KWAL/17/SXAK50_KWAL_251755___28042\n",
      "2021-08-25 13:55:55,322 [INFO] sarracenia.flow do_download downloaded ok: /tmp/amis/20210825/WXO-DD/bulletins/alphanumeric/20210825/SR/KWAL/17/SRMN20_KWAL_251755___22977\n",
      "2021-08-25 13:55:55,445 [INFO] sarracenia.flow do_download downloaded ok: /tmp/amis/20210825/WXO-DD/bulletins/alphanumeric/20210825/SR/KWAL/17/SRND20_KWAL_251755___35227\n",
      "2021-08-25 13:55:55,554 [INFO] sarracenia.flow do_download downloaded ok: /tmp/amis/20210825/WXO-DD/bulletins/alphanumeric/20210825/SR/KWAL/17/SRCN40_KWAL_251755___7338\n",
      "2021-08-25 13:55:55,727 [INFO] sarracenia.flow do_download downloaded ok: /tmp/amis/20210825/WXO-DD/bulletins/alphanumeric/20210825/SX/KWNB/17/SXUS23_KWNB_251800_RRB__19519\n",
      "2021-08-25 13:55:55,850 [INFO] sarracenia.flow do_download downloaded ok: /tmp/amis/20210825/WXO-DD/bulletins/alphanumeric/20210825/SX/KWAL/17/SXAK50_KWAL_251755___10141\n",
      "2021-08-25 13:55:55,850 [INFO] sarracenia.flowcb.v2wrapper on_time v2 run on_stop\n",
      "2021-08-25 13:55:55,871 [INFO] sarracenia.flowcb.gather.message on_stop closing\n",
      "2021-08-25 13:55:55,871 [INFO] sarracenia.flow close flow/close completed cleanly\n",
      "\n"
     ]
    }
   ],
   "source": [
    "!sr3 foreground subscribe/hpfx_amis.conf"
   ]
  },
  {
   "cell_type": "markdown",
   "id": "foreign-european",
   "metadata": {},
   "source": [
    "as you can see it downloaded five files to /tmp/amis.\n",
    "The _foreground_ action is intended to help with debugging, rather than real operations."
   ]
  },
  {
   "cell_type": "code",
   "execution_count": 4,
   "id": "split-writing",
   "metadata": {
    "scrolled": false
   },
   "outputs": [
    {
     "name": "stdout",
     "output_type": "stream",
     "text": [
      "2021-08-25 13:56:01,564 [INFO] sarracenia.config fill_missing_options overriding batch for consistency with message_count_max: 10\r\n",
      "status: \r\n",
      "Component/Config                         State        Run  Miss   Exp Retry\r\n",
      "----------------                         -----        ---  ----   --- -----\r\n",
      "subscribe/dd_amis                        stopped        0     0     0     0\r\n",
      "subscribe/dd_radar                       stopped        0     0     0     0\r\n",
      "subscribe/hpfx_amis                      stopped        0     0     0     0\r\n",
      "      total running configs:   0 ( processes: 0 missing: 0 stray: 0 )\r\n"
     ]
    }
   ],
   "source": [
    "!sr3 status"
   ]
  },
  {
   "cell_type": "markdown",
   "id": "rocky-unemployment",
   "metadata": {},
   "source": [
    "There is 1 configuration in your list.  You can have hundreds.  The columns on the right refer to how many instances you have for each configuration. In the example above _instances_ is set to 5, so one would expect to see 5 running instances when it would be running. You can start specifc configuration with _sr3 start subscribe/*_ or start all active instances with: _sr3 start_\n",
    "\n",
    "!sr3 log subscribe/hpfx_amis.conf\n",
    "\n",
    "    tail: cannot open '/home/peter/.cache/sr3/log/subscribe_hpfx_amis_01.log' for reading: No such file or    directory\n",
    "    tail: no files remaining\n",
    "    2021-02-17 01:10:09,252 [ERROR] root run_command subprocess.run failed err=Command '['tail', '-f', '/home/peter/.cache/sr3/log/subscribe_hpfx_amis_01.log']' returned non-zero exit status 1.\n",
    "    \n",
    "When running in the background, output needs to go a log file. As we have only run this configuration file in the foreground, asking to see the log prints an error about the log being missing. This tells you that the logs are in the _~/.cache/sr3/log_ directory. Logs can be monitored in real-time with traditional tools such as _tail -f_ or  _grep_.\n",
    "\n",
    "_sr3 stop_ does what you expect.\n",
    "\n",
    "Processes can crash. In the _sr3 status_ output above, if the number of processes in the Run column is less than in the Exp (for Expected) one, then it means that some instances have crashed.  you can repair it (just start the missing instances) with:\n",
    "\n",
    "_sr3 sanity_  -- start missing instances, also kill strays if any found.\n",
    "\n",
    "So that's it, an introduction to running configurations in Sarracenia from the command line.\n",
    "\n",
    "\n",
    "# Conclusion\n",
    "\n",
    "If all you want to do is obtain data from a data pump in real-time, using the command line interface to control some processes that run all the time, so that they dump files in a certain directory is the easiest way to go.\n",
    "\n",
    "It isn't very efficient though.  When you have large numbers of files to work with, and you want high speed processing, it is better, in the sense of lower cpu and i/o overhead, and in terms of speed of processing,\n",
    "to have your own application informed of the arrival of files, rather than scanning a directory.\n",
    "\n",
    "The easiest way to do that is to add some callbacks to your flows.  We'll cover that next."
   ]
  },
  {
   "cell_type": "code",
   "execution_count": null,
   "id": "congressional-australia",
   "metadata": {},
   "outputs": [],
   "source": []
  }
 ],
 "metadata": {
  "kernelspec": {
   "display_name": "Python 3",
   "language": "python",
   "name": "python3"
  },
  "language_info": {
   "codemirror_mode": {
    "name": "ipython",
    "version": 3
   },
   "file_extension": ".py",
   "mimetype": "text/x-python",
   "name": "python",
   "nbconvert_exporter": "python",
   "pygments_lexer": "ipython3",
   "version": "3.8.10"
  }
 },
 "nbformat": 4,
 "nbformat_minor": 5
}
