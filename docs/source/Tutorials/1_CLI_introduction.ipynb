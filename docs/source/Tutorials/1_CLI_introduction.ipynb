{
 "cells": [
  {
   "cell_type": "markdown",
   "id": "chubby-tenant",
   "metadata": {},
   "source": [
    "Command Line Interface\n",
    "-----------------------------------\n",
    "\n",
    "This [jupyter notebook](https://jupyter.org) introduces [Sarracenia version 3](https://metpx.github.io/sarracenia) usage from the command line (mostly on Linux, but should be similar on Windows and Mac also, main difference being different conventions for where preferences and logs are stored. This is probably the easiest way to work with Sarracenia. You configure a flow to download files into a directory, and you can read the directory to process the files there.\n"
   ]
  },
  {
   "cell_type": "code",
   "execution_count": 1,
   "id": "neither-shannon",
   "metadata": {},
   "outputs": [],
   "source": [
    "import sarracenia\n",
    "!mkdir -p ~/.config/sr3/subscribe\n",
    "!mkdir -p ~/.cache/sr3/log"
   ]
  },
  {
   "cell_type": "markdown",
   "id": "varying-armor",
   "metadata": {},
   "source": [
    "\n",
    "Prerequisites\n",
    "-------------------\n",
    "\n",
    "The above is just a way to get jupyter notebooks to install metpx-sr3 on a server.\n",
    "Creating some directories in case people use API access without running things through the API. The basic pre-requisite is to have metpx-sr3 installed somehow, either as a .deb package, or using pip (or pip3) available to the environment used by jupyter.\n",
    "\n",
    "The rest of this notebook assumes [metpx-sr3](https://metpx.github.io/sarracenia) is installed."
   ]
  },
  {
   "cell_type": "markdown",
   "id": "absolute-integral",
   "metadata": {},
   "source": [
    "SR3\n",
    "---\n",
    "\n",
    "The command line interface is called [sr3](../Reference/sr3.1.html) (short for Sarracenia version 3). One defines\n",
    "flows to run using configuration files in a simple format: _keyword_ _value_ format.\n",
    "there are example configurations to get you started:"
   ]
  },
  {
   "cell_type": "code",
   "execution_count": 2,
   "id": "drawn-opposition",
   "metadata": {
    "scrolled": false
   },
   "outputs": [
    {
     "name": "stdout",
     "output_type": "stream",
     "text": [
      "Sample Configurations: (from: /home/peter/Sarracenia/sr3/sarracenia/examples )\r\n",
      "cpump/cno_trouble_f00.inc        poll/airnow.conf                 \r\n",
      "poll/aws-nexrad.conf             poll/mail.conf                   \r\n",
      "poll/nasa-mls-nrt.conf           poll/noaa.conf                   \r\n",
      "poll/soapshc.conf                poll/usgs.conf                   \r\n",
      "post/WMO_mesh_post.conf          sarra/wmo_mesh.conf              \r\n",
      "sender/ec2collab.conf            sender/pitcher_push.conf         \r\n",
      "shovel/no_trouble_f00.inc        subscribe/aws-nexrad.conf        \r\n",
      "subscribe/dd_2mqtt.conf          subscribe/dd_all.conf            \r\n",
      "subscribe/dd_amis.conf           subscribe/dd_aqhi.conf           \r\n",
      "subscribe/dd_cacn_bulletins.conf subscribe/dd_citypage.conf       \r\n",
      "subscribe/dd_cmml.conf           subscribe/dd_gdps.conf           \r\n",
      "subscribe/dd_radar.conf          subscribe/dd_rdps.conf           \r\n",
      "subscribe/dd_swob.conf           subscribe/ddc_cap-xml.conf       \r\n",
      "subscribe/ddc_normal.conf        subscribe/downloademail.conf     \r\n",
      "subscribe/ec_ninjo-a.conf        subscribe/hpfxWIS2DownloadAll.conf \r\n",
      "subscribe/hpfx_amis.conf         subscribe/local_sub.conf         \r\n",
      "subscribe/ping.conf              subscribe/pitcher_pull.conf      \r\n",
      "subscribe/sci2ec.conf            subscribe/subnoaa.conf           \r\n",
      "subscribe/subsoapshc.conf        subscribe/subusgs.conf           \r\n",
      "sender/ec2collab.conf            sender/pitcher_push.conf         \r\n",
      "watch/master.conf                watch/pitcher_client.conf        \r\n",
      "watch/pitcher_server.conf        watch/sci2ec.conf                \r\n"
     ]
    }
   ],
   "source": [
    "!sr3 list examples"
   ]
  },
  {
   "cell_type": "markdown",
   "id": "affecting-marking",
   "metadata": {},
   "source": [
    "There are different kinds for flows: the examples are classified flow type (poll, post, sarra, sender, shovel...)\n",
    "A _subscribe_ is used by clients to download from a data pump. Let's pick one of those."
   ]
  },
  {
   "cell_type": "code",
   "execution_count": 3,
   "id": "egyptian-suicide",
   "metadata": {
    "scrolled": true
   },
   "outputs": [
    {
     "name": "stdout",
     "output_type": "stream",
     "text": [
      "add: 2022-03-14 14:30:39,725 1536009 [INFO] sarracenia.sr add copying: /home/peter/Sarracenia/sr3/sarracenia/examples/subscribe/hpfx_amis.conf to /home/peter/.config/sr3/subscribe/hpfx_amis.conf \r\n",
      "\r\n"
     ]
    }
   ],
   "source": [
    "!sr3 add subscribe/hpfx_amis.conf"
   ]
  },
  {
   "cell_type": "markdown",
   "id": "overall-instruction",
   "metadata": {},
   "source": [
    "The files that are active for you are place in ~/.config/sr3/<flow_type>/config_name.  You can browse there \n",
    "and modify them with an editor if you like.  You can do that also with  _sr3 edit subscribe/hpfx_amis.conf_\n",
    "\n",
    "    # this is a feed of wmo bulletin (a set called AMIS in the old times)\n",
    "\n",
    "    broker amqps://hpfx.collab.science.gc.ca/\n",
    "    exchange xpublic\n",
    "\n",
    "    # instances: number of downloading processes to run at once.  defaults to 1. Not enough for this case\n",
    "    instances 5\n",
    "   \n",
    "    # expire, in operational use, should be longer than longest expected interruption\n",
    "    expire 10m\n",
    "\n",
    "    topic_prefix v02.post\n",
    "    subtopic *.WXO-DD.bulletins.alphanumeric.#\n",
    "    mirror false\n",
    "    directory /tmp/amis/\n",
    "    accept .*\n",
    "\n",
    "added the messageCountMax, so it doesn't run forever."
   ]
  },
  {
   "cell_type": "code",
   "execution_count": 4,
   "id": "primary-score",
   "metadata": {},
   "outputs": [],
   "source": [
    "!mkdir /tmp/amis\n",
    "!echo messageCountMax 10 >>~/.config/sr3/subscribe/hpfx_amis.conf"
   ]
  },
  {
   "cell_type": "markdown",
   "id": "ancient-scholarship",
   "metadata": {},
   "source": [
    "The root directory where files are to be placed needs to exist before you start.\n",
    "the above commands are to configure on a linux machine, you might need something else on a mac or windows.\n",
    "\n",
    "You can then run a flow interactively with the _foreground_ action, and it will end quickly, like so:"
   ]
  },
  {
   "cell_type": "code",
   "execution_count": 5,
   "id": "nominated-nerve",
   "metadata": {},
   "outputs": [
    {
     "name": "stdout",
     "output_type": "stream",
     "text": [
      "2022-03-14 14:31:35,054 1536315 [INFO] sarracenia.config fill_missing_options overriding batch for consistency with messageCountMax: 10\n",
      ".2022-03-14 14:31:35,281 [INFO] 1536317 sarracenia.config fill_missing_options overriding batch for consistency with messageCountMax: 10\n",
      "2022-03-14 14:31:35,283 [INFO] 1536317 sarracenia.config fill_missing_options overriding batch for consistency with messageCountMax: 10\n",
      "2022-03-14 14:31:35,283 [INFO] 1536317 sarracenia.flow loadCallbacks plugins to load: ['sarracenia.flowcb.gather.message.Message', 'sarracenia.flowcb.retry.Retry', 'sarracenia.flowcb.housekeeping.resources.Resources', 'sarracenia.flowcb.log.Log']\n",
      "2022-03-14 14:31:35,672 [INFO] 1536317 sarracenia.flowcb.log __init__ subscribe initialized with: {'after_work', 'on_housekeeping', 'after_accept'}\n",
      "2022-03-14 14:31:35,672 [INFO] 1536317 sarracenia.flow run options:\n",
      "_Config__admin=\"...st/ None True True False False None None\",\n",
      "_Config__broker=\"...ca/ None True True False False None None\",\n",
      "_Config__post_broker=None, accel_threshold=0, acceptSizeWrong=False,\n",
      "acceptUnmatched=False, action='foreground', attempts=3, auto_delete=False,\n",
      "baseDir=None, baseUrl_relPath=False, batch=10, bind=True,\n",
      "bindings=\"... ['*.WXO-DD.bulletins.alphanumeric.#'])]\", bufsize=1048576,\n",
      "bytes_per_second=None, bytes_ps=0,\n",
      "cfg_run_dir=\"...me/peter/.cache/sr3/subscribe/hpfx_amis'\",\n",
      "config='hpfx_amis.conf', configurations=['subscribe/hpfx_amis.conf'],\n",
      "currentDir=None, dangerWillRobinson=False, debug=False, declare=True,\n",
      "declared_exchanges=[],\n",
      "declared_users=\"...': 'source', 'eggmeister': 'subscriber'}\", delete=False,\n",
      "destfn_script=None, directory='/tmp/hpfx_amis/', discard=False,\n",
      "documentRoot=None, download=True, durable=True,\n",
      "env_declared=\"...OKER', 'MQP', 'SFTPUSER', 'TESTDOCROOT']\", exchange='xpublic',\n",
      "expire=600.0, feeder=amqp://tfeed@localhost,\n",
      "fileEvents={'create', 'link', 'modify', 'delete'}, filename='WHATFN',\n",
      "fixed_headers={}, flatten='/', hostdir='fractal', hostname='fractal',\n",
      "housekeeping=300, imports=[], inflight=None, inline=False,\n",
      "inline_encoding='guess', inline_max=4096, inline_only=False, instances=5,\n",
      "integrity_arbitrary_value=None, integrity_method='sha512',\n",
      "logEvents=\"...ork', 'on_housekeeping', 'after_accept'}\",\n",
      "logFormat=\"...me)s] %(name)s %(funcName)s %(message)s'\", logLevel='info',\n",
      "logStdout=False, log_flowcb_needed=False, lr_backupCount=5, lr_interval=1,\n",
      "lr_when='midnight', masks=\"...pile('.*'), True, False, 0, False, '/')]\",\n",
      "messageAgeMax=0, messageCountMax=10, messageDebugDump=False, messageRateMax=0,\n",
      "messageRateMin=0,\n",
      "message_strategy=\"...ubborn': True, 'failure_duration': '5m'}\", message_ttl=0,\n",
      "mirror=False, no=0, nodupe_fileAgeMax=0, nodupe_ttl=0, overwrite=True,\n",
      "permCopy=True, permDefault=0, permDirDefault=509, permLog=384,\n",
      "pid_filename=\"...e/hpfx_amis//subscribe_hpfx_amis_00.pid'\", plugins_early=[],\n",
      "plugins_late=['sarracenia.flowcb.log.Log'], post_baseDir=None,\n",
      "post_baseUrl=None, post_documentRoot=None, post_exchanges=[],\n",
      "post_topicPrefix=['v02', 'post'], prefetch=25, program_name='subscribe',\n",
      "pstrip=False, queue_filename=\"...mis/subscribe.hpfx_amis.anonymous.qname'\",\n",
      "queue_name=\"...s_subscribe.hpfx_amis.63452207.64811249'\", randid='e3c0',\n",
      "randomize=False, realpath_post=False, rename=None, report_back=False,\n",
      "reset=False, retry_path=\"...hpfx_amis//subscribe_hpfx_amis_00.retry'\",\n",
      "retry_ttl=600.0, settings={}, sleep=0.1, statehost=False, strip=0, subtopic=[],\n",
      "timeCopy=True, timeout=300, timezone='UTC', tls_rigour='normal',\n",
      "topicPrefix=['v02', 'post'], undeclared=[], users=False, v2plugin_options=[],\n",
      "v2plugins={}, vhost='/', vip=None\n",
      "2022-03-14 14:31:35,672 [INFO] 1536317 sarracenia.flow run callbacks loaded: ['sarracenia.flowcb.gather.message.Message', 'sarracenia.flowcb.retry.Retry', 'sarracenia.flowcb.housekeeping.resources.Resources', 'sarracenia.flowcb.log.Log']\n",
      "2022-03-14 14:31:35,672 [INFO] 1536317 sarracenia.flow run pid: 1536317 subscribe/hpfx_amis.conf instance: 0\n",
      "2022-03-14 14:31:37,750 [INFO] 1536317 sarracenia.flowcb.log after_accept accepted: (lag: 0.81 ) https://hpfx.collab.science.gc.ca /20220314/WXO-DD/bulletins/alphanumeric/20220314/SM/CWAO/18/SMCN34_CWAO_141800__71464_19878 \n",
      "2022-03-14 14:31:37,920 [INFO] 1536317 sarracenia.flowcb.log after_work downloaded ok: /tmp/hpfx_amis/SMCN34_CWAO_141800__71464_19878 \n",
      "2022-03-14 14:31:46,581 [INFO] 1536317 sarracenia.flowcb.log after_accept accepted: (lag: 4.67 ) https://hpfx.collab.science.gc.ca /20220314/WXO-DD/bulletins/alphanumeric/20220314/UA/CWAO/18/UANT01_CWAO_141831___23698 \n",
      "2022-03-14 14:31:46,581 [INFO] 1536317 sarracenia.flowcb.log after_accept accepted: (lag: 4.58 ) https://hpfx.collab.science.gc.ca /20220314/WXO-DD/bulletins/alphanumeric/20220314/CA/CWAO/18/CACN00_CWAO_141830__ahd_05811 \n",
      "2022-03-14 14:31:46,581 [INFO] 1536317 sarracenia.flowcb.log after_accept accepted: (lag: 4.58 ) https://hpfx.collab.science.gc.ca /20220314/WXO-DD/bulletins/alphanumeric/20220314/CA/CWAO/18/CACN00_CWAO_141830__WZU_32440 \n",
      "2022-03-14 14:31:46,581 [INFO] 1536317 sarracenia.flowcb.log after_accept accepted: (lag: 4.58 ) https://hpfx.collab.science.gc.ca /20220314/WXO-DD/bulletins/alphanumeric/20220314/CA/CWAO/18/CACN00_CWAO_141830__AHK_52923 \n",
      "2022-03-14 14:31:46,581 [INFO] 1536317 sarracenia.flowcb.log after_accept accepted: (lag: 2.69 ) https://hpfx.collab.science.gc.ca /20220314/WXO-DD/bulletins/alphanumeric/20220314/CS/CWEG/18/CSCN03_CWEG_141800___11587 \n",
      "2022-03-14 14:31:46,581 [INFO] 1536317 sarracenia.flowcb.log after_accept accepted: (lag: 2.69 ) https://hpfx.collab.science.gc.ca /20220314/WXO-DD/bulletins/alphanumeric/20220314/SP/CWAO/18/SPZZ40_CWAO_141831_RRG_KLRF_54446 \n",
      "2022-03-14 14:31:46,581 [INFO] 1536317 sarracenia.flowcb.log after_accept accepted: (lag: 3.38 ) https://hpfx.collab.science.gc.ca /20220314/WXO-DD/bulletins/alphanumeric/20220314/SP/CWAO/18/SPZZ40_CWAO_141831_RRG_KLRF_54446 \n",
      "2022-03-14 14:31:46,581 [INFO] 1536317 sarracenia.flowcb.log after_accept accepted: (lag: 4.38 ) https://hpfx.collab.science.gc.ca /20220314/WXO-DD/bulletins/alphanumeric/20220314/SP/CYFC/18/SPCN61_CYFC_141831___15175420 \n",
      "2022-03-14 14:31:46,581 [INFO] 1536317 sarracenia.flowcb.log after_accept accepted: (lag: 4.37 ) https://hpfx.collab.science.gc.ca /20220314/WXO-DD/bulletins/alphanumeric/20220314/SP/CYNA/18/SPCN61_CYNA_141831___15175421 \n",
      "2022-03-14 14:31:47,512 [INFO] 1536317 sarracenia.flowcb.log after_work downloaded ok: /tmp/hpfx_amis/UANT01_CWAO_141831___23698 \n",
      "2022-03-14 14:31:47,512 [INFO] 1536317 sarracenia.flowcb.log after_work downloaded ok: /tmp/hpfx_amis/CACN00_CWAO_141830__ahd_05811 \n",
      "2022-03-14 14:31:47,512 [INFO] 1536317 sarracenia.flowcb.log after_work downloaded ok: /tmp/hpfx_amis/CACN00_CWAO_141830__WZU_32440 \n",
      "2022-03-14 14:31:47,512 [INFO] 1536317 sarracenia.flowcb.log after_work downloaded ok: /tmp/hpfx_amis/CACN00_CWAO_141830__AHK_52923 \n",
      "2022-03-14 14:31:47,512 [INFO] 1536317 sarracenia.flowcb.log after_work downloaded ok: /tmp/hpfx_amis/CSCN03_CWEG_141800___11587 \n",
      "2022-03-14 14:31:47,512 [INFO] 1536317 sarracenia.flowcb.log after_work downloaded ok: /tmp/hpfx_amis/SPZZ40_CWAO_141831_RRG_KLRF_54446 \n",
      "2022-03-14 14:31:47,512 [INFO] 1536317 sarracenia.flowcb.log after_work downloaded ok: /tmp/hpfx_amis/SPCN61_CYFC_141831___15175420 \n",
      "2022-03-14 14:31:47,512 [INFO] 1536317 sarracenia.flowcb.log after_work downloaded ok: /tmp/hpfx_amis/SPCN61_CYNA_141831___15175421 \n",
      "2022-03-14 14:31:47,535 [INFO] 1536317 sarracenia.flowcb.gather.message on_stop closing\n",
      "2022-03-14 14:31:47,535 [INFO] 1536317 sarracenia.flow close flow/close completed cleanly pid: 1536317 subscribe/hpfx_amis.conf instance: 0\n",
      "\n"
     ]
    }
   ],
   "source": [
    "!sr3 foreground subscribe/hpfx_amis.conf"
   ]
  },
  {
   "cell_type": "markdown",
   "id": "foreign-european",
   "metadata": {},
   "source": [
    "as you can see it downloaded five files to /tmp/amis.\n",
    "The _foreground_ action is intended to help with debugging, rather than real operations."
   ]
  },
  {
   "cell_type": "code",
   "execution_count": 9,
   "id": "split-writing",
   "metadata": {
    "scrolled": false
   },
   "outputs": [
    {
     "name": "stdout",
     "output_type": "stream",
     "text": [
      "2022-03-14 14:35:45,694 1537647 [INFO] sarracenia.config fill_missing_options overriding batch for consistency with messageCountMax: 10\r\n",
      "status: \r\n",
      "Component/Config                         State        Run  Miss   Exp Retry\r\n",
      "----------------                         -----        ---  ----   --- -----\r\n",
      "subscribe/hpfx_amis                      stopped        0     0     0     0\r\n",
      "      total running configs:   0 ( processes: 0 missing: 0 stray: 0 )\r\n"
     ]
    }
   ],
   "source": [
    "!sr3 status"
   ]
  },
  {
   "cell_type": "markdown",
   "id": "rocky-unemployment",
   "metadata": {},
   "source": [
    "There is 1 configuration in your list.  You can have hundreds.  The columns on the right refer to how many instances you have for each configuration. In the example above _instances_ is set to 5, so one would expect to see 5 running instances when it would be running. You can start specifc configuration with _sr3 start subscribe/*_ or start all active instances with: _sr3 start_"
   ]
  },
  {
   "cell_type": "code",
   "execution_count": 10,
   "id": "neural-laugh",
   "metadata": {
    "scrolled": true
   },
   "outputs": [
    {
     "name": "stdout",
     "output_type": "stream",
     "text": [
      "2022-03-14 14:35:51,028 1537652 [INFO] sarracenia.config fill_missing_options overriding batch for consistency with messageCountMax: 10\r\n",
      "tail: cannot open '/home/peter/.cache/sr3/log/subscribe_hpfx_amis_01.log' for reading: No such file or directory\r\n",
      "tail: no files remaining\r\n",
      "2022-03-14 14:35:51,032 1537652 [ERROR] root run_command subprocess.run failed err=Command '['tail', '-f', '/home/peter/.cache/sr3/log/subscribe_hpfx_amis_01.log']' returned non-zero exit status 1.\r\n",
      "\r\n"
     ]
    }
   ],
   "source": [
    "!sr3 log subscribe/hpfx_amis.conf"
   ]
  },
  {
   "cell_type": "markdown",
   "id": "leading-matthew",
   "metadata": {},
   "source": [
    "When running in the background, output needs to go a log file. As we have only run this configuration file in the foreground, asking to see the log prints an error about the log being missing. This tells you that the logs are in the _~/.cache/sr3/log_ directory. Logs can be monitored in real-time with traditional tools such as _tail -f_ or  _grep_.\n",
    "\n",
    "_sr3 stop_ does what you expect.\n",
    "\n",
    "Processes can crash. In the _sr3 status_ output above, if the number of processes in the Run column is less than in the Exp (for Expected) one, then it means that some instances have crashed.  you can repair it (just start the missing instances) with:\n",
    "\n",
    "_sr3 sanity_  -- start missing instances, also kill strays if any found.\n",
    "\n",
    "So that's it, an introduction to running configurations in Sarracenia from the command line.\n",
    "\n",
    "\n",
    "Conclusion\n",
    "----------------\n",
    "\n",
    "If all you want to do is obtain data from a data pump in real-time, using the command line interface to control some processes that run all the time, so that they dump files in a certain directory is the easiest way to go.\n",
    "\n",
    "It isn't very efficient though.  When you have large numbers of files to work with, and you want high speed processing, it is better, in the sense of lower cpu and i/o overhead, and in terms of speed of processing,\n",
    "to have your own application informed of the arrival of files, rather than scanning a directory.\n",
    "\n",
    "The easiest way to do that is to add some callbacks to your flows.  We'll cover that next."
   ]
  }
 ],
 "metadata": {
  "kernelspec": {
   "display_name": "Python 3",
   "language": "python",
   "name": "python3"
  },
  "language_info": {
   "codemirror_mode": {
    "name": "ipython",
    "version": 3
   },
   "file_extension": ".py",
   "mimetype": "text/x-python",
   "name": "python",
   "nbconvert_exporter": "python",
   "pygments_lexer": "ipython3",
   "version": "3.8.10"
  }
 },
 "nbformat": 4,
 "nbformat_minor": 5
}
